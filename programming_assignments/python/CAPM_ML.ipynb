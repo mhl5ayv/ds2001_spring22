{
 "cells": [
  {
   "cell_type": "markdown",
   "metadata": {},
   "source": [
    "## Capital Asset Pricing Model (CAPM)\n",
    "### Strength Training with Functions, Numpy\n",
    "\n",
    "\n",
    "### University of Virginia\n",
    "### Programming for Data Science\n",
    "### Last Updated: June 29, 2021\n",
    "---"
   ]
  },
  {
   "cell_type": "markdown",
   "metadata": {},
   "source": [
    "### Objectives: \n",
    "- Use numpy and functions to compute a stock's CAPM beta\n",
    "- Perform sensitivity analysis to understand how the data points impact the beta estimate\n",
    "\n",
    "### Background\n",
    "\n",
    "\n",
    "In finance, CAPM is a single-factor regression model used for explaining and predicting excess stock returns. There are better, more accurate models, but it has its uses. For example, the *market beta* is a useful output.\n",
    "\n",
    "\n",
    "Here is the formula for calculating the expected excess return:\n",
    "\n",
    "\\begin{aligned} &E[R_i] - R_f  = \\beta_i ( E[R_m] - R_f ) \\\\ \\\\ &\\textbf{where:} \\\\ &ER_i = \\text{expected return of stock i} \\\\ &R_f = \\text{risk-free rate} \\\\ &\\beta_i = \\text{beta of the stock} \\\\ &ER_m - R_f = \\text{market risk premium} \\\\ \\end{aligned} \n",
    "\n",
    "#### Review the instructions below to complete the requested tasks.\n",
    "\n",
    "#### TOTAL POINTS: 10\n",
    "---  \n"
   ]
  },
  {
   "cell_type": "code",
   "execution_count": 1,
   "metadata": {},
   "outputs": [],
   "source": [
    "# load modules\n",
    "import numpy as np\n",
    "import pandas as pd\n",
    "\n",
    "# risk-free Treasury rate\n",
    "R_f = 0.0175 / 252"
   ]
  },
  {
   "cell_type": "code",
   "execution_count": 68,
   "metadata": {},
   "outputs": [],
   "source": [
    "# read in the market data\n",
    "data = pd.read_csv('capm_market_data.csv')"
   ]
  },
  {
   "cell_type": "markdown",
   "metadata": {},
   "source": [
    "Look at some records  \n",
    "SPY is an ETF for the S&P 500 (the \"stock market\")  \n",
    "AAPL is Apple  \n",
    "The values are closing prices, adjusted for splits and dividends"
   ]
  },
  {
   "cell_type": "markdown",
   "metadata": {},
   "source": [
    "Drop the date column"
   ]
  },
  {
   "cell_type": "code",
   "execution_count": 69,
   "metadata": {},
   "outputs": [
    {
     "data": {
      "text/html": [
       "<div>\n",
       "<style scoped>\n",
       "    .dataframe tbody tr th:only-of-type {\n",
       "        vertical-align: middle;\n",
       "    }\n",
       "\n",
       "    .dataframe tbody tr th {\n",
       "        vertical-align: top;\n",
       "    }\n",
       "\n",
       "    .dataframe thead th {\n",
       "        text-align: right;\n",
       "    }\n",
       "</style>\n",
       "<table border=\"1\" class=\"dataframe\">\n",
       "  <thead>\n",
       "    <tr style=\"text-align: right;\">\n",
       "      <th></th>\n",
       "      <th>spy_adj_close</th>\n",
       "      <th>aapl_adj_close</th>\n",
       "    </tr>\n",
       "  </thead>\n",
       "  <tbody>\n",
       "    <tr>\n",
       "      <th>0</th>\n",
       "      <td>321.555786</td>\n",
       "      <td>298.829956</td>\n",
       "    </tr>\n",
       "    <tr>\n",
       "      <th>1</th>\n",
       "      <td>319.120911</td>\n",
       "      <td>295.924713</td>\n",
       "    </tr>\n",
       "    <tr>\n",
       "      <th>2</th>\n",
       "      <td>320.338379</td>\n",
       "      <td>298.282715</td>\n",
       "    </tr>\n",
       "    <tr>\n",
       "      <th>3</th>\n",
       "      <td>319.437653</td>\n",
       "      <td>296.879883</td>\n",
       "    </tr>\n",
       "    <tr>\n",
       "      <th>4</th>\n",
       "      <td>321.140106</td>\n",
       "      <td>301.655548</td>\n",
       "    </tr>\n",
       "  </tbody>\n",
       "</table>\n",
       "</div>"
      ],
      "text/plain": [
       "   spy_adj_close  aapl_adj_close\n",
       "0     321.555786      298.829956\n",
       "1     319.120911      295.924713\n",
       "2     320.338379      298.282715\n",
       "3     319.437653      296.879883\n",
       "4     321.140106      301.655548"
      ]
     },
     "execution_count": 69,
     "metadata": {},
     "output_type": "execute_result"
    }
   ],
   "source": [
    "data = data.drop(columns=['date'])\n",
    "data.head()"
   ]
  },
  {
   "cell_type": "markdown",
   "metadata": {},
   "source": [
    "Compute daily returns (percentage changes in price) for SPY, AAPL  \n",
    "Be sure to drop the first row of NaN  \n",
    "Hint: pandas has functions to easily do this"
   ]
  },
  {
   "cell_type": "code",
   "execution_count": 70,
   "metadata": {},
   "outputs": [
    {
     "data": {
      "text/html": [
       "<div>\n",
       "<style scoped>\n",
       "    .dataframe tbody tr th:only-of-type {\n",
       "        vertical-align: middle;\n",
       "    }\n",
       "\n",
       "    .dataframe tbody tr th {\n",
       "        vertical-align: top;\n",
       "    }\n",
       "\n",
       "    .dataframe thead th {\n",
       "        text-align: right;\n",
       "    }\n",
       "</style>\n",
       "<table border=\"1\" class=\"dataframe\">\n",
       "  <thead>\n",
       "    <tr style=\"text-align: right;\">\n",
       "      <th></th>\n",
       "      <th>spy_adj_close</th>\n",
       "      <th>aapl_adj_close</th>\n",
       "    </tr>\n",
       "  </thead>\n",
       "  <tbody>\n",
       "    <tr>\n",
       "      <th>1</th>\n",
       "      <td>-0.007572</td>\n",
       "      <td>-0.009722</td>\n",
       "    </tr>\n",
       "    <tr>\n",
       "      <th>2</th>\n",
       "      <td>0.003815</td>\n",
       "      <td>0.007968</td>\n",
       "    </tr>\n",
       "    <tr>\n",
       "      <th>3</th>\n",
       "      <td>-0.002812</td>\n",
       "      <td>-0.004703</td>\n",
       "    </tr>\n",
       "    <tr>\n",
       "      <th>4</th>\n",
       "      <td>0.005330</td>\n",
       "      <td>0.016086</td>\n",
       "    </tr>\n",
       "    <tr>\n",
       "      <th>5</th>\n",
       "      <td>0.006781</td>\n",
       "      <td>0.021241</td>\n",
       "    </tr>\n",
       "    <tr>\n",
       "      <th>...</th>\n",
       "      <td>...</td>\n",
       "      <td>...</td>\n",
       "    </tr>\n",
       "    <tr>\n",
       "      <th>130</th>\n",
       "      <td>-0.005693</td>\n",
       "      <td>0.004300</td>\n",
       "    </tr>\n",
       "    <tr>\n",
       "      <th>131</th>\n",
       "      <td>0.010211</td>\n",
       "      <td>0.001749</td>\n",
       "    </tr>\n",
       "    <tr>\n",
       "      <th>132</th>\n",
       "      <td>-0.008659</td>\n",
       "      <td>-0.004613</td>\n",
       "    </tr>\n",
       "    <tr>\n",
       "      <th>133</th>\n",
       "      <td>0.012959</td>\n",
       "      <td>0.016548</td>\n",
       "    </tr>\n",
       "    <tr>\n",
       "      <th>134</th>\n",
       "      <td>0.009187</td>\n",
       "      <td>0.006877</td>\n",
       "    </tr>\n",
       "  </tbody>\n",
       "</table>\n",
       "<p>134 rows × 2 columns</p>\n",
       "</div>"
      ],
      "text/plain": [
       "     spy_adj_close  aapl_adj_close\n",
       "1        -0.007572       -0.009722\n",
       "2         0.003815        0.007968\n",
       "3        -0.002812       -0.004703\n",
       "4         0.005330        0.016086\n",
       "5         0.006781        0.021241\n",
       "..             ...             ...\n",
       "130      -0.005693        0.004300\n",
       "131       0.010211        0.001749\n",
       "132      -0.008659       -0.004613\n",
       "133       0.012959        0.016548\n",
       "134       0.009187        0.006877\n",
       "\n",
       "[134 rows x 2 columns]"
      ]
     },
     "execution_count": 70,
     "metadata": {},
     "output_type": "execute_result"
    }
   ],
   "source": [
    "data = data.pct_change()\n",
    "data = data.dropna()\n",
    "data"
   ]
  },
  {
   "cell_type": "code",
   "execution_count": null,
   "metadata": {},
   "outputs": [],
   "source": []
  },
  {
   "cell_type": "markdown",
   "metadata": {},
   "source": [
    "#### 1. (1 PT) Print the first 5 rows of returns"
   ]
  },
  {
   "cell_type": "code",
   "execution_count": 71,
   "metadata": {},
   "outputs": [
    {
     "data": {
      "text/html": [
       "<div>\n",
       "<style scoped>\n",
       "    .dataframe tbody tr th:only-of-type {\n",
       "        vertical-align: middle;\n",
       "    }\n",
       "\n",
       "    .dataframe tbody tr th {\n",
       "        vertical-align: top;\n",
       "    }\n",
       "\n",
       "    .dataframe thead th {\n",
       "        text-align: right;\n",
       "    }\n",
       "</style>\n",
       "<table border=\"1\" class=\"dataframe\">\n",
       "  <thead>\n",
       "    <tr style=\"text-align: right;\">\n",
       "      <th></th>\n",
       "      <th>spy_adj_close</th>\n",
       "      <th>aapl_adj_close</th>\n",
       "    </tr>\n",
       "  </thead>\n",
       "  <tbody>\n",
       "    <tr>\n",
       "      <th>1</th>\n",
       "      <td>-0.007572</td>\n",
       "      <td>-0.009722</td>\n",
       "    </tr>\n",
       "    <tr>\n",
       "      <th>2</th>\n",
       "      <td>0.003815</td>\n",
       "      <td>0.007968</td>\n",
       "    </tr>\n",
       "    <tr>\n",
       "      <th>3</th>\n",
       "      <td>-0.002812</td>\n",
       "      <td>-0.004703</td>\n",
       "    </tr>\n",
       "    <tr>\n",
       "      <th>4</th>\n",
       "      <td>0.005330</td>\n",
       "      <td>0.016086</td>\n",
       "    </tr>\n",
       "    <tr>\n",
       "      <th>5</th>\n",
       "      <td>0.006781</td>\n",
       "      <td>0.021241</td>\n",
       "    </tr>\n",
       "  </tbody>\n",
       "</table>\n",
       "</div>"
      ],
      "text/plain": [
       "   spy_adj_close  aapl_adj_close\n",
       "1      -0.007572       -0.009722\n",
       "2       0.003815        0.007968\n",
       "3      -0.002812       -0.004703\n",
       "4       0.005330        0.016086\n",
       "5       0.006781        0.021241"
      ]
     },
     "execution_count": 71,
     "metadata": {},
     "output_type": "execute_result"
    }
   ],
   "source": [
    "data.head(5)"
   ]
  },
  {
   "cell_type": "markdown",
   "metadata": {},
   "source": [
    "Save AAPL, SPY returns into separate numpy arrays  \n",
    "#### 2. (1 PT) Print the first five values from the SPY numpy array, and the AAPL numpy array"
   ]
  },
  {
   "cell_type": "code",
   "execution_count": 72,
   "metadata": {},
   "outputs": [
    {
     "name": "stdout",
     "output_type": "stream",
     "text": [
      "[-0.00757217  0.00381507 -0.0028118   0.00532953  0.00678059]\n",
      "[-0.00972206  0.00796825 -0.00470303  0.01608619  0.02124092]\n"
     ]
    }
   ],
   "source": [
    "spy = np.array(data['spy_adj_close'])\n",
    "aapl = np.array(data['aapl_adj_close'])\n",
    "\n",
    "print(spy[0:5])\n",
    "print(aapl[0:5])"
   ]
  },
  {
   "cell_type": "markdown",
   "metadata": {},
   "source": [
    "##### Compute the excess returns of AAPL, SPY by simply subtracting the constant *R_f* from the returns.\n",
    "##### Specifically, for the numpy array containing AAPL returns, subtract *R_f* from each of the returns. Repeat for SPY returns.\n",
    "\n",
    "NOTE:  \n",
    "AAPL - *R_f* = excess return of Apple stock  \n",
    "SPY - *R_f* = excess return of stock market\n"
   ]
  },
  {
   "cell_type": "code",
   "execution_count": 111,
   "metadata": {},
   "outputs": [],
   "source": [
    "ssub = np.subtract(spy,R_f)\n",
    "asub = np.subtract(aapl, R_f)"
   ]
  },
  {
   "cell_type": "markdown",
   "metadata": {},
   "source": [
    "#### 3. (1 PT) Print the LAST five excess returns from both AAPL, SPY numpy arrays\n"
   ]
  },
  {
   "cell_type": "code",
   "execution_count": 112,
   "metadata": {},
   "outputs": [
    {
     "name": "stdout",
     "output_type": "stream",
     "text": [
      "[[-7.71106017e-03  3.67618001e-03 -2.95068534e-03  5.19064443e-03\n",
      "   6.64170534e-03 -3.01661607e-03  6.73853539e-03 -1.66352492e-03\n",
      "   2.12090875e-03  8.17955401e-03  2.97367134e-03 -2.09702298e-03\n",
      "  -1.81848409e-05  1.00798686e-03 -9.03198142e-03 -1.61682691e-02\n",
      "   1.03402174e-02 -9.64939418e-04  3.10649774e-03 -1.82967923e-02\n",
      "   7.28964492e-03  1.51024234e-02  1.14091464e-02  3.22591137e-03\n",
      "  -5.46854824e-03  7.32643658e-03  1.59415094e-03  6.30388827e-03\n",
      "  -1.20588729e-03  1.46327252e-03 -2.71596415e-03  4.64245607e-03\n",
      "  -4.24719478e-03 -1.04371538e-02 -3.33042149e-02 -3.04411310e-02\n",
      "  -3.81704754e-03 -4.50506398e-02 -4.34031004e-03  4.31675008e-02\n",
      "  -2.87712911e-02  4.18941043e-02 -3.33805353e-02 -1.66700445e-02\n",
      "  -7.82333053e-02  5.16060605e-02 -4.88874475e-02 -9.58159981e-02\n",
      "   8.53473758e-02 -1.09562615e-01  5.38531757e-02 -5.07717949e-02\n",
      "   1.98602190e-03 -4.32330254e-02 -2.57070789e-02  9.04643770e-02\n",
      "   1.48312389e-02  5.82508897e-02 -2.99244830e-02  3.23368322e-02\n",
      "  -1.50442629e-02 -4.51438051e-02  2.29364997e-02 -1.45930310e-02\n",
      "   6.70272925e-02  8.80564277e-04  3.34294965e-02  1.50785484e-02\n",
      "  -9.26911395e-03  2.93540053e-02 -2.13869588e-02  4.68544827e-03\n",
      "   2.68764909e-02 -1.77568714e-02 -3.05020851e-02  2.20556522e-02\n",
      "  -2.10713768e-04  1.37998728e-02  1.42795260e-02 -4.73725749e-03\n",
      "   2.60395878e-02 -9.44954841e-03 -2.66123219e-02  2.61933516e-03\n",
      "   9.10045027e-03 -6.91766621e-03  1.19279748e-02  1.64072412e-02\n",
      "   6.63373794e-05 -2.00704655e-02 -1.78247416e-02  1.18284029e-02\n",
      "   4.45808529e-03  3.03207939e-02 -1.04100717e-02  1.68491376e-02\n",
      "  -7.04286387e-03  1.76022167e-03  1.21816199e-02  1.47401019e-02\n",
      "  -1.98377766e-03  4.31699915e-03  3.90280298e-03  8.14128059e-03\n",
      "   1.31693257e-02 -2.76557530e-03  2.54907095e-02  1.19485109e-02\n",
      "  -7.59558292e-03 -5.71888857e-03 -5.77877614e-02  1.18367646e-02\n",
      "   9.19672791e-03  1.91087511e-02 -4.29269987e-03  2.46152769e-04\n",
      "  -5.85379481e-03  6.27628858e-03  4.46478344e-03 -2.56475951e-02\n",
      "   1.05816537e-02 -2.38903715e-02  1.45586743e-02  1.26706559e-02\n",
      "   6.86592290e-03  5.36807373e-03  1.52983741e-02 -1.04526853e-02\n",
      "   7.50976273e-03 -5.83181012e-03  1.00716570e-02 -8.79785180e-03\n",
      "   1.28201288e-02  9.04834475e-03]]\n",
      "[ 0.00423088  0.00167981 -0.00468264  0.01647898  0.00680788]\n"
     ]
    }
   ],
   "source": [
    "print(ssub[-5:])\n",
    "print(asub[-5:])"
   ]
  },
  {
   "cell_type": "markdown",
   "metadata": {},
   "source": [
    "#### 4. (1 PT) Make a scatterplot with SPY excess returns on x-axis, AAPL excess returns on y-axis####\n",
    "Matplotlib documentation: https://matplotlib.org/stable/api/_as_gen/matplotlib.pyplot.scatter.html"
   ]
  },
  {
   "cell_type": "code",
   "execution_count": 110,
   "metadata": {},
   "outputs": [
    {
     "data": {
      "text/plain": [
       "Text(0, 0.5, 'AAPL Excess Returns')"
      ]
     },
     "execution_count": 110,
     "metadata": {},
     "output_type": "execute_result"
    },
    {
     "data": {
      "image/png": "[encoded data removed]",
      "text/plain": [
       "<Figure size 432x288 with 1 Axes>"
      ]
     },
     "metadata": {
      "needs_background": "light"
     },
     "output_type": "display_data"
    }
   ],
   "source": [
    "import matplotlib.pyplot as plt\n",
    "plt.scatter(ssub,asub)\n",
    "plt.xlabel('SPY Excess Returns')\n",
    "plt.ylabel('AAPL Excess Returns')"
   ]
  },
  {
   "cell_type": "markdown",
   "metadata": {},
   "source": [
    "#### 5. (3 PTS) Use Linear Algebra (matrices) to Compute the Regression Coefficient Estimate, \\\\(\\hat\\beta_i\\\\)\n",
    "\n",
    "Hint 1: Here is the matrix formula where *x′* denotes transpose of *x*.\n",
    "\n",
    "\\begin{aligned} \\hat\\beta_i=(x′x)^{−1}x′y \\end{aligned} \n",
    "\n",
    "Hint 2: consider numpy functions for matrix multiplication, transpose, and inverse. Be sure to review what these operations do, and how they work, if you're a bit rusty."
   ]
  },
  {
   "cell_type": "code",
   "execution_count": 113,
   "metadata": {},
   "outputs": [
    {
     "data": {
      "text/plain": [
       "matrix([[1.08815651]])"
      ]
     },
     "execution_count": 113,
     "metadata": {},
     "output_type": "execute_result"
    }
   ],
   "source": [
    "from numpy import linalg as la\n",
    "\n",
    "x = np.asmatrix(ssub)\n",
    "x = x.reshape(-1,1)\n",
    "xtrans = np.transpose(x)\n",
    "\n",
    "\n",
    "y = np.asmatrix(asub)\n",
    "y = y.reshape(-1,1)\n",
    "\n",
    "\n",
    "beta = np.linalg.inv(xtrans * x) * xtrans * y\n",
    "beta"
   ]
  },
  {
   "cell_type": "markdown",
   "metadata": {},
   "source": [
    "You should have found that the beta estimate is greater than one.  \n",
    "This means that the risk of AAPL stock, given the data, and according to this particular (flawed) model,  \n",
    "is higher relative to the risk of the S&P 500.\n"
   ]
  },
  {
   "cell_type": "markdown",
   "metadata": {},
   "source": []
  },
  {
   "cell_type": "markdown",
   "metadata": {},
   "source": [
    "#### Measuring Beta Sensitivity to Dropping Observations (Jackknifing)"
   ]
  },
  {
   "cell_type": "markdown",
   "metadata": {},
   "source": [
    "Let's understand how sensitive the beta is to each data point.   \n",
    "We want to drop each data point (one at a time), compute \\\\(\\hat\\beta_i\\\\) using our formula from above, and save each measurement.\n",
    "\n",
    "#### 6. (3 PTS) Write a function called `beta_sensitivity()` with these specs:\n",
    "\n",
    "- take numpy arrays x and y as inputs\n",
    "- output a list of tuples. each tuple contains (observation row dropped, beta estimate)\n",
    "\n",
    "Hint: **np.delete(x, i).reshape(-1,1)** will delete observation i from array x, and make it a column vector"
   ]
  },
  {
   "cell_type": "code",
   "execution_count": 132,
   "metadata": {},
   "outputs": [],
   "source": [
    "def beta_sensitivity(x, y):\n",
    "    tup_list = []\n",
    "    for i in range(x.size):\n",
    "        xdel = np.delete(x,i).reshape(-1,1)\n",
    "        xdeltrans = np.transpose(xdel)\n",
    "\n",
    "        ydel = np.delete(y,i).reshape(-1,1)\n",
    "        betadel = np.linalg.inv(xtrans * x) * xtrans * y\n",
    "        tup = (i, betadel)\n",
    "        tup_list.append(tup)\n",
    "    return tup_list\n"
   ]
  },
  {
   "cell_type": "code",
   "execution_count": 133,
   "metadata": {},
   "outputs": [
    {
     "data": {
      "text/plain": [
       "[(0, matrix([[1.08815651]])),\n",
       " (1, matrix([[1.08815651]])),\n",
       " (2, matrix([[1.08815651]])),\n",
       " (3, matrix([[1.08815651]])),\n",
       " (4, matrix([[1.08815651]])),\n",
       " (5, matrix([[1.08815651]])),\n",
       " (6, matrix([[1.08815651]])),\n",
       " (7, matrix([[1.08815651]])),\n",
       " (8, matrix([[1.08815651]])),\n",
       " (9, matrix([[1.08815651]])),\n",
       " (10, matrix([[1.08815651]])),\n",
       " (11, matrix([[1.08815651]])),\n",
       " (12, matrix([[1.08815651]])),\n",
       " (13, matrix([[1.08815651]])),\n",
       " (14, matrix([[1.08815651]])),\n",
       " (15, matrix([[1.08815651]])),\n",
       " (16, matrix([[1.08815651]])),\n",
       " (17, matrix([[1.08815651]])),\n",
       " (18, matrix([[1.08815651]])),\n",
       " (19, matrix([[1.08815651]])),\n",
       " (20, matrix([[1.08815651]])),\n",
       " (21, matrix([[1.08815651]])),\n",
       " (22, matrix([[1.08815651]])),\n",
       " (23, matrix([[1.08815651]])),\n",
       " (24, matrix([[1.08815651]])),\n",
       " (25, matrix([[1.08815651]])),\n",
       " (26, matrix([[1.08815651]])),\n",
       " (27, matrix([[1.08815651]])),\n",
       " (28, matrix([[1.08815651]])),\n",
       " (29, matrix([[1.08815651]])),\n",
       " (30, matrix([[1.08815651]])),\n",
       " (31, matrix([[1.08815651]])),\n",
       " (32, matrix([[1.08815651]])),\n",
       " (33, matrix([[1.08815651]])),\n",
       " (34, matrix([[1.08815651]])),\n",
       " (35, matrix([[1.08815651]])),\n",
       " (36, matrix([[1.08815651]])),\n",
       " (37, matrix([[1.08815651]])),\n",
       " (38, matrix([[1.08815651]])),\n",
       " (39, matrix([[1.08815651]])),\n",
       " (40, matrix([[1.08815651]])),\n",
       " (41, matrix([[1.08815651]])),\n",
       " (42, matrix([[1.08815651]])),\n",
       " (43, matrix([[1.08815651]])),\n",
       " (44, matrix([[1.08815651]])),\n",
       " (45, matrix([[1.08815651]])),\n",
       " (46, matrix([[1.08815651]])),\n",
       " (47, matrix([[1.08815651]])),\n",
       " (48, matrix([[1.08815651]])),\n",
       " (49, matrix([[1.08815651]])),\n",
       " (50, matrix([[1.08815651]])),\n",
       " (51, matrix([[1.08815651]])),\n",
       " (52, matrix([[1.08815651]])),\n",
       " (53, matrix([[1.08815651]])),\n",
       " (54, matrix([[1.08815651]])),\n",
       " (55, matrix([[1.08815651]])),\n",
       " (56, matrix([[1.08815651]])),\n",
       " (57, matrix([[1.08815651]])),\n",
       " (58, matrix([[1.08815651]])),\n",
       " (59, matrix([[1.08815651]])),\n",
       " (60, matrix([[1.08815651]])),\n",
       " (61, matrix([[1.08815651]])),\n",
       " (62, matrix([[1.08815651]])),\n",
       " (63, matrix([[1.08815651]])),\n",
       " (64, matrix([[1.08815651]])),\n",
       " (65, matrix([[1.08815651]])),\n",
       " (66, matrix([[1.08815651]])),\n",
       " (67, matrix([[1.08815651]])),\n",
       " (68, matrix([[1.08815651]])),\n",
       " (69, matrix([[1.08815651]])),\n",
       " (70, matrix([[1.08815651]])),\n",
       " (71, matrix([[1.08815651]])),\n",
       " (72, matrix([[1.08815651]])),\n",
       " (73, matrix([[1.08815651]])),\n",
       " (74, matrix([[1.08815651]])),\n",
       " (75, matrix([[1.08815651]])),\n",
       " (76, matrix([[1.08815651]])),\n",
       " (77, matrix([[1.08815651]])),\n",
       " (78, matrix([[1.08815651]])),\n",
       " (79, matrix([[1.08815651]])),\n",
       " (80, matrix([[1.08815651]])),\n",
       " (81, matrix([[1.08815651]])),\n",
       " (82, matrix([[1.08815651]])),\n",
       " (83, matrix([[1.08815651]])),\n",
       " (84, matrix([[1.08815651]])),\n",
       " (85, matrix([[1.08815651]])),\n",
       " (86, matrix([[1.08815651]])),\n",
       " (87, matrix([[1.08815651]])),\n",
       " (88, matrix([[1.08815651]])),\n",
       " (89, matrix([[1.08815651]])),\n",
       " (90, matrix([[1.08815651]])),\n",
       " (91, matrix([[1.08815651]])),\n",
       " (92, matrix([[1.08815651]])),\n",
       " (93, matrix([[1.08815651]])),\n",
       " (94, matrix([[1.08815651]])),\n",
       " (95, matrix([[1.08815651]])),\n",
       " (96, matrix([[1.08815651]])),\n",
       " (97, matrix([[1.08815651]])),\n",
       " (98, matrix([[1.08815651]])),\n",
       " (99, matrix([[1.08815651]])),\n",
       " (100, matrix([[1.08815651]])),\n",
       " (101, matrix([[1.08815651]])),\n",
       " (102, matrix([[1.08815651]])),\n",
       " (103, matrix([[1.08815651]])),\n",
       " (104, matrix([[1.08815651]])),\n",
       " (105, matrix([[1.08815651]])),\n",
       " (106, matrix([[1.08815651]])),\n",
       " (107, matrix([[1.08815651]])),\n",
       " (108, matrix([[1.08815651]])),\n",
       " (109, matrix([[1.08815651]])),\n",
       " (110, matrix([[1.08815651]])),\n",
       " (111, matrix([[1.08815651]])),\n",
       " (112, matrix([[1.08815651]])),\n",
       " (113, matrix([[1.08815651]])),\n",
       " (114, matrix([[1.08815651]])),\n",
       " (115, matrix([[1.08815651]])),\n",
       " (116, matrix([[1.08815651]])),\n",
       " (117, matrix([[1.08815651]])),\n",
       " (118, matrix([[1.08815651]])),\n",
       " (119, matrix([[1.08815651]])),\n",
       " (120, matrix([[1.08815651]])),\n",
       " (121, matrix([[1.08815651]])),\n",
       " (122, matrix([[1.08815651]])),\n",
       " (123, matrix([[1.08815651]])),\n",
       " (124, matrix([[1.08815651]])),\n",
       " (125, matrix([[1.08815651]])),\n",
       " (126, matrix([[1.08815651]])),\n",
       " (127, matrix([[1.08815651]])),\n",
       " (128, matrix([[1.08815651]])),\n",
       " (129, matrix([[1.08815651]])),\n",
       " (130, matrix([[1.08815651]])),\n",
       " (131, matrix([[1.08815651]])),\n",
       " (132, matrix([[1.08815651]])),\n",
       " (133, matrix([[1.08815651]]))]"
      ]
     },
     "execution_count": 133,
     "metadata": {},
     "output_type": "execute_result"
    }
   ],
   "source": [
    "beta_sensitivity(x, y)"
   ]
  },
  {
   "cell_type": "code",
   "execution_count": null,
   "metadata": {},
   "outputs": [],
   "source": []
  },
  {
   "cell_type": "markdown",
   "metadata": {},
   "source": [
    "#### Call `beta_sensitivity()` and print the first five tuples of output."
   ]
  },
  {
   "cell_type": "code",
   "execution_count": 134,
   "metadata": {},
   "outputs": [
    {
     "data": {
      "text/plain": [
       "[(0, matrix([[1.08815651]])),\n",
       " (1, matrix([[1.08815651]])),\n",
       " (2, matrix([[1.08815651]])),\n",
       " (3, matrix([[1.08815651]])),\n",
       " (4, matrix([[1.08815651]]))]"
      ]
     },
     "execution_count": 134,
     "metadata": {},
     "output_type": "execute_result"
    }
   ],
   "source": [
    "beta_sensitivity(x,y)[0:5]"
   ]
  }
 ],
 "metadata": {
  "kernelspec": {
   "display_name": "Python 3 (ipykernel)",
   "language": "python",
   "name": "python3"
  },
  "language_info": {
   "codemirror_mode": {
    "name": "ipython",
    "version": 3
   },
   "file_extension": ".py",
   "mimetype": "text/x-python",
   "name": "python",
   "nbconvert_exporter": "python",
   "pygments_lexer": "ipython3",
   "version": "3.9.7"
  }
 },
 "nbformat": 4,
 "nbformat_minor": 4
}
