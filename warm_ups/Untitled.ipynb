{
 "cells": [
  {
   "cell_type": "code",
   "execution_count": 2,
   "id": "5f7f0de8-71c0-48fc-bb8e-a3b66d545aa5",
   "metadata": {},
   "outputs": [
    {
     "ename": "SyntaxError",
     "evalue": "illegal target for annotation (3288631195.py, line 8)",
     "output_type": "error",
     "traceback": [
      "\u001b[0;36m  File \u001b[0;32m\"/var/folders/sn/_v1mncvx0k35shds0rrppvkc0000gn/T/ipykernel_19620/3288631195.py\"\u001b[0;36m, line \u001b[0;32m8\u001b[0m\n\u001b[0;31m    Warm-up: Table joins\u001b[0m\n\u001b[0m    ^\u001b[0m\n\u001b[0;31mSyntaxError\u001b[0m\u001b[0;31m:\u001b[0m illegal target for annotation\n"
     ]
    }
   ],
   "source": [
    "# -*- coding: utf-8 -*-\n",
    "\"\"\"\n",
    "Created on Wed Jan 12 09:50:35 2022\n",
    "\n",
    "@author: youmisuk\n",
    "\"\"\"\n",
    "\n",
    "Warm-up: Table joins\n",
    "\n",
    "PURPOSE\n",
    "In this small exercise, you will create two tables and join them,\n",
    "using Python.\n",
    "\n",
    "You might want to use the sqlite lecture notes as a reference"
   ]
  },
  {
   "cell_type": "code",
   "execution_count": 4,
   "id": "8e566d56-fce3-4da3-9b59-9c9c96ab9b1d",
   "metadata": {},
   "outputs": [
    {
     "ename": "OperationalError",
     "evalue": "unable to open database file",
     "output_type": "error",
     "traceback": [
      "\u001b[0;31m---------------------------------------------------------------------------\u001b[0m",
      "\u001b[0;31mOperationalError\u001b[0m                          Traceback (most recent call last)",
      "\u001b[0;32m/var/folders/sn/_v1mncvx0k35shds0rrppvkc0000gn/T/ipykernel_19620/3889176905.py\u001b[0m in \u001b[0;36m<module>\u001b[0;34m\u001b[0m\n\u001b[1;32m     19\u001b[0m \u001b[0;34m\u001b[0m\u001b[0m\n\u001b[1;32m     20\u001b[0m \u001b[0;31m# create db connection\u001b[0m\u001b[0;34m\u001b[0m\u001b[0;34m\u001b[0m\u001b[0m\n\u001b[0;32m---> 21\u001b[0;31m \u001b[0mconn\u001b[0m \u001b[0;34m=\u001b[0m \u001b[0msqlite3\u001b[0m\u001b[0;34m.\u001b[0m\u001b[0mconnect\u001b[0m\u001b[0;34m(\u001b[0m\u001b[0mpath_to_db\u001b[0m\u001b[0;34m)\u001b[0m\u001b[0;34m\u001b[0m\u001b[0;34m\u001b[0m\u001b[0m\n\u001b[0m\u001b[1;32m     22\u001b[0m \u001b[0;34m\u001b[0m\u001b[0m\n\u001b[1;32m     23\u001b[0m \u001b[0;31m# create cursor\u001b[0m\u001b[0;34m\u001b[0m\u001b[0;34m\u001b[0m\u001b[0m\n",
      "\u001b[0;31mOperationalError\u001b[0m: unable to open database file"
     ]
    }
   ],
   "source": [
    "# python\n",
    "import sqlite3\n",
    "\n",
    "# create some data\n",
    "company_hq = [\n",
    "        ('NVDA','Santa Clara'),\n",
    "        ('AAPL','Cupertino'),\n",
    "        ('GOOG','Mountain View')]\n",
    "\n",
    "company_ceos = [\n",
    "        ('NVDA','Jensen Huang'),\n",
    "        ('AAPL','Tim Cook')]\n",
    "\n",
    "\n",
    "# connect to db\n",
    "\n",
    "# update with your path to the database\n",
    "path_to_db = \"/Users/youmisuk/sqlite/stocks.db\"    \n",
    "\n",
    "# create db connection\n",
    "conn = sqlite3.connect(path_to_db)\n",
    "\n",
    "# create cursor\n",
    "cur = conn.cursor()\n",
    "\n",
    "# create a table in the db called \"hq\" and pass schema (ticker text, location text)\n",
    "# end the transaction with a commit\n",
    "\n",
    "# create a table in the db called \"ceo\" and pass schema (ticker text, ceo text)\n",
    "\n",
    "# insert records into hq table\n",
    "\n",
    "# insert records into ceo table\n",
    "\n",
    "\n",
    "# query each table to make sure all the data has been loaded\n",
    "for row in cur.execute('select * from hq'):\n",
    "    print(row)\n",
    "\n",
    "# repeat for ceo table\n",
    "\n",
    "# join the two tables together, printing records with columns: ticker, location, ceo\n",
    "# Run the code below, notice the result, and we will discuss it.\n",
    "    \n",
    "for row in conn.execute('select hq.ticker, hq.location, ceo.ceo \\\n",
    "                        from hq inner join ceo \\\n",
    "                        on hq.ticker = ceo.ticker'):\n",
    "    print(row)\n",
    "    \n",
    "# Next, change inner join to left join, run the query, and notice the result\n",
    "\n",
    "\n",
    "# For discussion:\n",
    "# 1) notation: table.field; for example hq.ticker\n",
    "# 2) inner join vs left join\n",
    "# 3) joining \"on\" fields"
   ]
  },
  {
   "cell_type": "code",
   "execution_count": null,
   "id": "562112d1-cd96-4f77-8609-9bb9e082a9aa",
   "metadata": {},
   "outputs": [],
   "source": []
  }
 ],
 "metadata": {
  "kernelspec": {
   "display_name": "Python 3 (ipykernel)",
   "language": "python",
   "name": "python3"
  },
  "language_info": {
   "codemirror_mode": {
    "name": "ipython",
    "version": 3
   },
   "file_extension": ".py",
   "mimetype": "text/x-python",
   "name": "python",
   "nbconvert_exporter": "python",
   "pygments_lexer": "ipython3",
   "version": "3.9.7"
  }
 },
 "nbformat": 4,
 "nbformat_minor": 5
}
